{
 "cells": [
  {
   "cell_type": "code",
   "execution_count": null,
   "id": "3ad19df0-05be-42f9-97e7-d0cd3e562322",
   "metadata": {},
   "outputs": [],
   "source": [
    "data_root = '/scratch/yang.zhiyu/tif_test/linear_data/'"
   ]
  },
  {
   "cell_type": "code",
   "execution_count": 1,
   "id": "efd597f0-a35e-4332-8c47-f79a690f0323",
   "metadata": {
    "tags": []
   },
   "outputs": [],
   "source": [
    "import tifffile as tiff\n",
    "\n",
    "def read_tiff_to_np(image_path):\n",
    "    array = tiff.imread(image_path)\n",
    "    return array"
   ]
  },
  {
   "cell_type": "code",
   "execution_count": 2,
   "id": "1254ef69-555a-4eae-9c87-4a6a29b4fa9c",
   "metadata": {
    "tags": []
   },
   "outputs": [],
   "source": [
    "tiff_sample = \"/scratch/yang.zhiyu/tif_test/linear_data/test/DJI_20240806140449_0013.tiff\""
   ]
  },
  {
   "cell_type": "code",
   "execution_count": null,
   "id": "e73c6780-aaf2-41a3-a1b1-41758cf9a317",
   "metadata": {
    "tags": []
   },
   "outputs": [],
   "source": [
    "sample_array = read_tiff_to_np(tiff_sample)\n",
    "print(sample_array[10][0:100])"
   ]
  },
  {
   "cell_type": "code",
   "execution_count": 4,
   "id": "0f0e054c-6d32-42c4-a49a-0a1fe9e19f1a",
   "metadata": {
    "tags": []
   },
   "outputs": [
    {
     "name": "stdout",
     "output_type": "stream",
     "text": [
      "65535\n"
     ]
    }
   ],
   "source": [
    "import numpy as np\n",
    "print(np.max(sample_array))"
   ]
  },
  {
   "cell_type": "code",
   "execution_count": 5,
   "id": "17c22d4b-bd41-44ca-a005-3c10b27b8296",
   "metadata": {
    "tags": []
   },
   "outputs": [
    {
     "name": "stdout",
     "output_type": "stream",
     "text": [
      "Mean: [8046.91842199 8737.79279203 5429.00729014]\n",
      "Standard Deviation: [8363.84210805 8236.57830203 6228.74230407]\n",
      "Max: [65535 65535 65535]\n"
     ]
    }
   ],
   "source": [
    "import os\n",
    "import numpy as np\n",
    "import tifffile as tiff\n",
    "\n",
    "# Root directory containing TIFF images (including subdirectories)\n",
    "root_dir = '/scratch/yang.zhiyu/tif_test/linear_data/'\n",
    "\n",
    "# Initialize list to store pixel values\n",
    "all_images = []\n",
    "\n",
    "# Walk through all subdirectories and files\n",
    "for subdir, _, files in os.walk(root_dir):\n",
    "    for file in files:\n",
    "        if file.endswith('.tiff') or file.endswith('.tif'):\n",
    "            img_path = os.path.join(subdir, file)\n",
    "            img_array = tiff.imread(img_path)\n",
    "            all_images.append(img_array)\n",
    "\n",
    "# Stack images into a 4D array (num_images, height, width, channels)\n",
    "images_array = np.stack(all_images, axis=0)\n",
    "\n",
    "# Calculate mean and std for each channel (R, G, B)\n",
    "mean = np.mean(images_array, axis=(0, 1, 2))  # Mean for each channel\n",
    "std = np.std(images_array, axis=(0, 1, 2))    # Std for each channel\n",
    "max_values = np.max(images_array, axis=(0, 1, 2))\n",
    "\n",
    "print(\"Mean:\", mean)\n",
    "print(\"Standard Deviation:\", std)\n",
    "print(\"Max:\", max_values)"
   ]
  }
 ],
 "metadata": {
  "kernelspec": {
   "display_name": "Python 3 (ipykernel)",
   "language": "python",
   "name": "python3"
  },
  "language_info": {
   "codemirror_mode": {
    "name": "ipython",
    "version": 3
   },
   "file_extension": ".py",
   "mimetype": "text/x-python",
   "name": "python",
   "nbconvert_exporter": "python",
   "pygments_lexer": "ipython3",
   "version": "3.9.18"
  }
 },
 "nbformat": 4,
 "nbformat_minor": 5
}
