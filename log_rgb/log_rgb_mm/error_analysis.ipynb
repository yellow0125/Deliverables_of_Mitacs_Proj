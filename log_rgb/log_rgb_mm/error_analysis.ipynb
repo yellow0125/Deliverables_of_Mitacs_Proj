{
 "cells": [
  {
   "cell_type": "code",
   "execution_count": null,
   "id": "066e390c-b940-4009-ad8b-718df0d09c9a",
   "metadata": {},
   "outputs": [],
   "source": [
    "%cd mmdetection"
   ]
  },
  {
   "cell_type": "code",
   "execution_count": null,
   "id": "6f7fb9fe-bab9-4f8c-8b42-769d77909f64",
   "metadata": {},
   "outputs": [],
   "source": [
    "!python tools/coco_error_analysis.py"
   ]
  }
 ],
 "metadata": {
  "kernelspec": {
   "display_name": "Python 3 (ipykernel)",
   "language": "python",
   "name": "python3"
  },
  "language_info": {
   "codemirror_mode": {
    "name": "ipython",
    "version": 3
   },
   "file_extension": ".py",
   "mimetype": "text/x-python",
   "name": "python",
   "nbconvert_exporter": "python",
   "pygments_lexer": "ipython3",
   "version": "3.9.18"
  }
 },
 "nbformat": 4,
 "nbformat_minor": 5
}
